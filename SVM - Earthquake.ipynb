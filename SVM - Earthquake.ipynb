{
 "cells": [
  {
   "cell_type": "code",
   "execution_count": 1,
   "metadata": {},
   "outputs": [],
   "source": [
    "import pandas as pd\n",
    "from pandas_profiling import ProfileReport\n",
    "import numpy as np\n",
    "from sklearn.model_selection import train_test_split\n",
    "import seaborn as sns\n",
    "import matplotlib.pyplot as plt\n"
   ]
  },
  {
   "cell_type": "code",
   "execution_count": 123,
   "metadata": {
    "scrolled": true
   },
   "outputs": [
    {
     "data": {
      "text/plain": [
       "building_id     325083\n",
       "damage_grade         3\n",
       "Name: 1039, dtype: int64"
      ]
     },
     "execution_count": 123,
     "metadata": {},
     "output_type": "execute_result"
    }
   ],
   "source": [
    "raw_train_features = pd.read_csv('/Users/pamelachavez/AllWomen/Module3/Project2/train_values.csv')\n",
    "raw_train_labels = pd.read_csv('/Users/pamelachavez/AllWomen/Module3/Project2/train_labels.csv')\n",
    "raw_test_features = pd.read_csv('/Users/pamelachavez/AllWomen/Module3/Project2/test_values.csv')\n",
    "raw_train_labels.loc[1039, : ]"
   ]
  },
  {
   "cell_type": "markdown",
   "metadata": {},
   "source": [
    "### Dealing with categorical variables"
   ]
  },
  {
   "cell_type": "code",
   "execution_count": 62,
   "metadata": {},
   "outputs": [],
   "source": [
    "# One hot encoding of categorical variables\n",
    "\n",
    "def hot_encode(df, lst):\n",
    "    for i in lst:\n",
    "        variable_df = pd.get_dummies(df[i], prefix = i)\n",
    "        df = pd.concat([df, variable_df], axis=1)\n",
    "        df = df.drop([i], axis=1)\n",
    "    return df\n",
    "\n",
    "categorical_features = ['foundation_type', 'land_surface_condition', 'roof_type', 'ground_floor_type', 'other_floor_type', 'position', 'plan_configuration', 'legal_ownership_status']\n",
    "extended_train_features = hot_encode(raw_train_features, categorical_features)"
   ]
  },
  {
   "cell_type": "markdown",
   "metadata": {},
   "source": [
    "### Extracting balanced samples of each class"
   ]
  },
  {
   "cell_type": "code",
   "execution_count": 135,
   "metadata": {},
   "outputs": [],
   "source": [
    "from random import sample \n",
    "\n",
    "level1 = raw_train_labels[raw_train_labels['damage_grade'] == 1]\n",
    "index1 = list(level1.index.values) \n",
    "index1 = sample(index1,333)\n",
    "index1 = np.array(index1)\n",
    "\n",
    "level2 = raw_train_labels[raw_train_labels['damage_grade'] == 2]\n",
    "index2 = list(level2.index.values)\n",
    "index2 = sample(index2,333)\n",
    "index2 = np.array(index2)\n",
    "\n",
    "level3 = raw_train_labels[raw_train_labels['damage_grade'] == 3]\n",
    "index3 = list(level3.index.values)\n",
    "index3 = sample(index3,334)\n",
    "index3 = np.array(index3)\n",
    "\n",
    "index = np.concatenate((index1, index2, index3), axis=None)"
   ]
  },
  {
   "cell_type": "code",
   "execution_count": 136,
   "metadata": {},
   "outputs": [],
   "source": [
    "labels = raw_train_labels['damage_grade']\n",
    "labels = np.array(labels)\n",
    "labels = labels[index]\n",
    "\n",
    "features = np.array(extended_train_features)\n",
    "features = features[index]"
   ]
  },
  {
   "cell_type": "markdown",
   "metadata": {},
   "source": [
    "### Split data"
   ]
  },
  {
   "cell_type": "code",
   "execution_count": 137,
   "metadata": {},
   "outputs": [
    {
     "name": "stdout",
     "output_type": "stream",
     "text": [
      "(700, 69)\n",
      "(700,)\n",
      "(300, 69)\n",
      "(300,)\n"
     ]
    }
   ],
   "source": [
    "train_features, test_features, train_labels, test_labels = train_test_split(features, labels, test_size = 0.3, random_state = 5, shuffle=True)\n",
    "print(train_features.shape)\n",
    "print(train_labels.shape)\n",
    "print(test_features.shape)\n",
    "print(test_labels.shape)"
   ]
  },
  {
   "cell_type": "code",
   "execution_count": 138,
   "metadata": {},
   "outputs": [],
   "source": [
    "def confusionMatrix(y_test, y_pred):\n",
    "    cm = confusion_matrix(y_test, y_pred)\n",
    "    data_cm = pd.DataFrame(cm, columns=np.unique(y_test), index = np.unique(y_test))\n",
    "    data_cm.index.name = 'Actual'\n",
    "    data_cm.columns.name = 'Predicted'\n",
    "\n",
    "    sns.set(font_scale=1.4)\n",
    "    fig, ax = plt.subplots(figsize=(12,6))\n",
    "    \n",
    "    ax.set(yticks=[-0.5, 1.5], \n",
    "       xticks=[0, 1], \n",
    "       yticklabels=data_cm.index, \n",
    "       xticklabels=data_cm.columns)\n",
    "\n",
    "    sns.heatmap(data_cm, cmap=\"Blues\", annot=True, fmt='', ax=ax)\n",
    "    return data_cm"
   ]
  },
  {
   "cell_type": "markdown",
   "metadata": {},
   "source": [
    "### SVM"
   ]
  },
  {
   "cell_type": "code",
   "execution_count": 140,
   "metadata": {},
   "outputs": [
    {
     "data": {
      "text/plain": [
       "SVC(C=1.0, break_ties=False, cache_size=200, class_weight=None, coef0=0.0,\n",
       "    decision_function_shape='ovr', degree=3, gamma='scale', kernel='linear',\n",
       "    max_iter=-1, probability=False, random_state=5, shrinking=True, tol=0.001,\n",
       "    verbose=False)"
      ]
     },
     "execution_count": 140,
     "metadata": {},
     "output_type": "execute_result"
    }
   ],
   "source": [
    "from sklearn.svm import SVC\n",
    "model = SVC(kernel = 'linear', random_state = 5)\n",
    "model.fit(train_features, train_labels)\n"
   ]
  },
  {
   "cell_type": "code",
   "execution_count": 141,
   "metadata": {},
   "outputs": [],
   "source": [
    "model_prediction = model.predict(test_features)"
   ]
  },
  {
   "cell_type": "code",
   "execution_count": 142,
   "metadata": {},
   "outputs": [
    {
     "name": "stdout",
     "output_type": "stream",
     "text": [
      "0.33\n"
     ]
    },
    {
     "data": {
      "image/png": "[encoded data removed]",
      "text/plain": [
       "<Figure size 864x432 with 2 Axes>"
      ]
     },
     "metadata": {},
     "output_type": "display_data"
    }
   ],
   "source": [
    "from sklearn.metrics import confusion_matrix, accuracy_score\n",
    "cm = confusionMatrix(test_labels, model_prediction)\n",
    "accuracy = accuracy_score(test_labels, model_prediction)\n",
    "print(accuracy)"
   ]
  },
  {
   "cell_type": "markdown",
   "metadata": {},
   "source": [
    "### Random Forest"
   ]
  },
  {
   "cell_type": "code",
   "execution_count": null,
   "metadata": {},
   "outputs": [],
   "source": []
  }
 ],
 "metadata": {
  "kernelspec": {
   "display_name": "Python 3",
   "language": "python",
   "name": "python3"
  },
  "language_info": {
   "codemirror_mode": {
    "name": "ipython",
    "version": 3
   },
   "file_extension": ".py",
   "mimetype": "text/x-python",
   "name": "python",
   "nbconvert_exporter": "python",
   "pygments_lexer": "ipython3",
   "version": "3.7.6"
  }
 },
 "nbformat": 4,
 "nbformat_minor": 2
}
